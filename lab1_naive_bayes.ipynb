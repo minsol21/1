{
  "nbformat": 4,
  "nbformat_minor": 0,
  "metadata": {
    "colab": {
      "provenance": [],
      "include_colab_link": true
    },
    "kernelspec": {
      "name": "python3",
      "display_name": "Python 3"
    },
    "language_info": {
      "name": "python"
    }
  },
  "cells": [
    {
      "cell_type": "markdown",
      "metadata": {
        "id": "view-in-github",
        "colab_type": "text"
      },
      "source": [
        "<a href=\"https://colab.research.google.com/github/minsol21/1/blob/main/lab1_naive_bayes.ipynb\" target=\"_parent\"><img src=\"https://colab.research.google.com/assets/colab-badge.svg\" alt=\"Open In Colab\"/></a>"
      ]
    },
    {
      "cell_type": "markdown",
      "source": [
        "# Linear Methods for Regression & Classification\n",
        "\n",
        "Table of contents\n",
        "\n",
        "Chapter 1.   Linear regression\n",
        "\n",
        "Chapter 2.   Logistic regression\n",
        "\n",
        "✔ Chapter 3.   Gaussian discriminant analysis (Gaussian Naive Bayes)"
      ],
      "metadata": {
        "id": "2sKnxfqeHZX6"
      }
    },
    {
      "cell_type": "markdown",
      "source": [
        "To install further python libraries, type\n",
        "\n",
        "`!pip install --target=$my_path [LIBRARY_NAME]`\n",
        "\n",
        "To download online dataset,\n",
        "\n",
        "`!wget [URL]`"
      ],
      "metadata": {
        "id": "Pqx4x_JFHcbB"
      }
    },
    {
      "cell_type": "code",
      "execution_count": 1,
      "metadata": {
        "id": "rWizrrrwoBBL"
      },
      "outputs": [],
      "source": [
        "# Split the dataset by class values (i.e., labels), returns a dictionary\n",
        "# you can use lab code to homework.\n",
        "def separate_by_class(dataset):\n",
        "\tdata_dict = dict()\n",
        "\tfor i in range(len(dataset)):\n",
        "\t\tvector = dataset[i]\n",
        "\t\tclass_value = vector[-1]\n",
        "\t\tif (class_value not in data_dict):\n",
        "\t\t\tdata_dict[class_value] = list()\n",
        "\t\tdata_dict[class_value].append(vector)\n",
        "\treturn data_dict"
      ]
    },
    {
      "cell_type": "code",
      "source": [
        "# Test separating data by class\n",
        "dataset = [[3.393533211,2.331273381,0],\n",
        "\t[3.110073483,1.781539638,0],\n",
        "\t[1.343808831,3.368360954,0],\n",
        "\t[3.582294042,4.67917911,0],\n",
        "\t[2.280362439,2.866990263,0],\n",
        "\t[7.423436942,4.696522875,1],\n",
        "\t[5.745051997,3.533989803,1],\n",
        "\t[9.172168622,2.511101045,1],\n",
        "\t[7.792783481,3.424088941,1],\n",
        "\t[7.939820817,0.791637231,1]]\n",
        "separated = separate_by_class(dataset)\n",
        "for label in separated:\n",
        "\tprint(label)\n",
        "\tfor row in separated[label]:\n",
        "\t\tprint(row)\n",
        "\t##if you print you can see balanced data,,, 5 and 5"
      ],
      "metadata": {
        "colab": {
          "base_uri": "https://localhost:8080/"
        },
        "id": "f7oQCxItJU8e",
        "outputId": "b12da12e-2bb7-46c6-c535-3d4a7846b79f"
      },
      "execution_count": 2,
      "outputs": [
        {
          "output_type": "stream",
          "name": "stdout",
          "text": [
            "0\n",
            "[3.393533211, 2.331273381, 0]\n",
            "[3.110073483, 1.781539638, 0]\n",
            "[1.343808831, 3.368360954, 0]\n",
            "[3.582294042, 4.67917911, 0]\n",
            "[2.280362439, 2.866990263, 0]\n",
            "1\n",
            "[7.423436942, 4.696522875, 1]\n",
            "[5.745051997, 3.533989803, 1]\n",
            "[9.172168622, 2.511101045, 1]\n",
            "[7.792783481, 3.424088941, 1]\n",
            "[7.939820817, 0.791637231, 1]\n"
          ]
        }
      ]
    },
    {
      "cell_type": "code",
      "source": [
        "from math import sqrt\n",
        "\n",
        "# compute the standard deviation of a list of numbers\n",
        "def stdev(numbers):\n",
        "\tavg = mean(numbers)\n",
        "\tvariance = sum([(x-avg)**2 for x in numbers]) / float(len(numbers)-1)\n",
        "\treturn sqrt(variance)\n",
        "\n",
        "# compute the mean of a list of numbers\n",
        "def mean(numbers):\n",
        "\treturn sum(numbers)/float(len(numbers))"
      ],
      "metadata": {
        "id": "J8u1KNKCH9Tc"
      },
      "execution_count": 5,
      "outputs": []
    },
    {
      "cell_type": "code",
      "source": [
        "# Calculate the mean, stdev and count for each column in a dataset\n",
        "def mean_std_for_all(dataset):\n",
        "\tsummaries = [(mean(column), stdev(column), len(column)) for column in zip(*dataset)]\n",
        "\tdel(summaries[-1])\n",
        "\treturn summaries"
      ],
      "metadata": {
        "id": "7HZeUUUXIXHY"
      },
      "execution_count": 6,
      "outputs": []
    },
    {
      "cell_type": "code",
      "source": [
        "# Test summarizing a dataset\n",
        "dataset = [[3.393533211,2.331273381,0],\n",
        "\t[3.110073483,1.781539638,0],\n",
        "\t[1.343808831,3.368360954,0],\n",
        "\t[3.582294042,4.67917911,0],\n",
        "\t[2.280362439,2.866990263,0],\n",
        "\t[7.423436942,4.696522875,1],\n",
        "\t[5.745051997,3.533989803,1],\n",
        "\t[9.172168622,2.511101045,1],\n",
        "\t[7.792783481,3.424088941,1],\n",
        "\t[7.939820817,0.791637231,1]]\n",
        "summary = mean_std_for_all(dataset)\n",
        "print(summary)"
      ],
      "metadata": {
        "colab": {
          "base_uri": "https://localhost:8080/"
        },
        "id": "auN47IKhIeh9",
        "outputId": "9be90672-9b16-4602-bfa9-6286759407d1"
      },
      "execution_count": 7,
      "outputs": [
        {
          "output_type": "stream",
          "name": "stdout",
          "text": [
            "[(5.178333386499999, 2.7665845055177263, 10), (2.9984683241, 1.218556343617447, 10)]\n"
          ]
        }
      ]
    },
    {
      "cell_type": "code",
      "source": [
        "for i in zip(*dataset):\n",
        "  print(i)"
      ],
      "metadata": {
        "colab": {
          "base_uri": "https://localhost:8080/"
        },
        "id": "3VNDmCgFK83e",
        "outputId": "afe62e39-4040-47c4-dcfa-92e0370bfd71"
      },
      "execution_count": 8,
      "outputs": [
        {
          "output_type": "stream",
          "name": "stdout",
          "text": [
            "(3.393533211, 3.110073483, 1.343808831, 3.582294042, 2.280362439, 7.423436942, 5.745051997, 9.172168622, 7.792783481, 7.939820817)\n",
            "(2.331273381, 1.781539638, 3.368360954, 4.67917911, 2.866990263, 4.696522875, 3.533989803, 2.511101045, 3.424088941, 0.791637231)\n",
            "(0, 0, 0, 0, 0, 1, 1, 1, 1, 1)\n"
          ]
        }
      ]
    },
    {
      "cell_type": "code",
      "source": [
        "def mean_std_per_class(dataset):\n",
        "  separated = separate_by_class(dataset)\n",
        "  summaries = dict()\n",
        "  for class_value, rows in separated.items():\n",
        "    print(class_value, rows)\n",
        "    summaries[class_value] = mean_std_for_all(rows)\n",
        "  return summaries"
      ],
      "metadata": {
        "id": "uJYxRvJTJmSt"
      },
      "execution_count": 10,
      "outputs": []
    },
    {
      "cell_type": "code",
      "source": [
        "# compute mean and std for each class of 0 and 1\n",
        "dataset = [[3.393533211,2.331273381,0],\n",
        "\t[3.110073483,1.781539638,0],\n",
        "\t[1.343808831,3.368360954,0],\n",
        "\t[3.582294042,4.67917911,0],\n",
        "\t[2.280362439,2.866990263,0],\n",
        "\t[7.423436942,4.696522875,1],\n",
        "\t[5.745051997,3.533989803,1],\n",
        "\t[9.172168622,2.511101045,1],\n",
        "\t[7.792783481,3.424088941,1],\n",
        "\t[7.939820817,0.791637231,1]]\n",
        "summary = mean_std_per_class(dataset)\n",
        "for label in summary:\n",
        "\tprint(label)\n",
        "\tfor row in summary[label]:\n",
        "\t\tprint(row)# (mean, std, length)"
      ],
      "metadata": {
        "colab": {
          "base_uri": "https://localhost:8080/"
        },
        "id": "Tj-eeAdDJXCa",
        "outputId": "ca6a3318-4f3d-4735-abe2-16779a7375ef"
      },
      "execution_count": 11,
      "outputs": [
        {
          "output_type": "stream",
          "name": "stdout",
          "text": [
            "0 [[3.393533211, 2.331273381, 0], [3.110073483, 1.781539638, 0], [1.343808831, 3.368360954, 0], [3.582294042, 4.67917911, 0], [2.280362439, 2.866990263, 0]]\n",
            "1 [[7.423436942, 4.696522875, 1], [5.745051997, 3.533989803, 1], [9.172168622, 2.511101045, 1], [7.792783481, 3.424088941, 1], [7.939820817, 0.791637231, 1]]\n",
            "0\n",
            "(2.7420144012, 0.9265683289298018, 5)\n",
            "(3.0054686692, 1.1073295894898725, 5)\n",
            "1\n",
            "(7.6146523718, 1.2344321550313704, 5)\n",
            "(2.9914679790000003, 1.4541931384601618, 5)\n"
          ]
        }
      ]
    },
    {
      "cell_type": "markdown",
      "source": [
        "To compute the probability (i.e., density) or likelihood, assume that the data is on Gaussian distribution\n",
        "\n",
        "f(x) = (1 / sqrt(2 * PI) * std) * exp(-((x-mean)^2 / (2 * std^2)))"
      ],
      "metadata": {
        "id": "BFuOObalK6r9"
      }
    },
    {
      "cell_type": "code",
      "source": [
        "# use Gaussian PDF to derive the probability\n",
        "from math import sqrt\n",
        "from math import pi\n",
        "from math import exp\n",
        "\n",
        "# compute the Gaussian probability distribution function (i.e., pdf) for x\n",
        "def calculate_probability(x, mean, stdev):\n",
        "\texponent = exp(-((x-mean)**2 / (2 * stdev**2 )))\n",
        "\treturn (1 / (sqrt(2 * pi) * stdev)) * exponent"
      ],
      "metadata": {
        "id": "GGgUzx0wKl0m"
      },
      "execution_count": 12,
      "outputs": []
    },
    {
      "cell_type": "code",
      "source": [
        "# compute the probabilities of predicting each class for a given row\n",
        "def calculate_class_probabilities(summaries, row):\n",
        "  total_rows = sum([summaries[label][0][2] for label in summaries]) # summaries[label][0][2]: length\n",
        "  probabilities = dict()\n",
        "  for class_value, class_summaries in summaries.items():\n",
        "    probabilities[class_value] = summaries[class_value][0][2]/float(total_rows) # prior\n",
        "\n",
        "    for i in range(len(class_summaries)):\n",
        "      mean, stdev, count = class_summaries[i]\n",
        "      probabilities[class_value] *= calculate_probability(row[i], mean, stdev)\n",
        "  return probabilities\n",
        "\n",
        "def predict_label(probs):\n",
        "  return max(probs, key=probs.get)"
      ],
      "metadata": {
        "id": "GFJjtrXSLcZn"
      },
      "execution_count": 13,
      "outputs": []
    },
    {
      "cell_type": "code",
      "source": [
        "# Test calculating class probabilities\n",
        "dataset = [[3.393533211,2.331273381,0],\n",
        "\t[3.110073483,1.781539638,0],\n",
        "\t[1.343808831,3.368360954,0],\n",
        "\t[3.582294042,4.67917911,0],\n",
        "\t[2.280362439,2.866990263,0],\n",
        "\t[7.423436942,4.696522875,1],\n",
        "\t[5.745051997,3.533989803,1],\n",
        "\t[9.172168622,2.511101045,1],\n",
        "\t[7.792783481,3.424088941,1],\n",
        "\t[7.939820817,0.791637231,1]]\n",
        "summaries = mean_std_per_class(dataset)\n",
        "\n",
        "# Test with the first row of the dataset\n",
        "probabilities = calculate_class_probabilities(summaries, dataset[0])\n",
        "print(probabilities)\n",
        "print(predict_label(probabilities))\n",
        "probabilities = calculate_class_probabilities(summaries, dataset[5])\n",
        "print(probabilities)\n",
        "print(predict_label(probabilities))"
      ],
      "metadata": {
        "colab": {
          "base_uri": "https://localhost:8080/"
        },
        "id": "EGcMQqyjLiy1",
        "outputId": "0175ca15-a09e-4c89-a4e0-228a36721be8"
      },
      "execution_count": 14,
      "outputs": [
        {
          "output_type": "stream",
          "name": "stdout",
          "text": [
            "0 [[3.393533211, 2.331273381, 0], [3.110073483, 1.781539638, 0], [1.343808831, 3.368360954, 0], [3.582294042, 4.67917911, 0], [2.280362439, 2.866990263, 0]]\n",
            "1 [[7.423436942, 4.696522875, 1], [5.745051997, 3.533989803, 1], [9.172168622, 2.511101045, 1], [7.792783481, 3.424088941, 1], [7.939820817, 0.791637231, 1]]\n",
            "{0: 0.05032427673372076, 1: 0.00011557718379945765}\n",
            "0\n",
            "{0: 6.919582110595225e-08, 1: 0.0220272991338951}\n",
            "1\n"
          ]
        }
      ]
    },
    {
      "cell_type": "code",
      "source": [
        "from google.colab import drive\n",
        "drive.mount('/content/drive')\n"
      ],
      "metadata": {
        "id": "1mUo689LMLtP",
        "colab": {
          "base_uri": "https://localhost:8080/"
        },
        "outputId": "3e2f9b5d-3a86-4853-8be7-8d356986de1b"
      },
      "execution_count": 19,
      "outputs": [
        {
          "output_type": "stream",
          "name": "stdout",
          "text": [
            "Drive already mounted at /content/drive; to attempt to forcibly remount, call drive.mount(\"/content/drive\", force_remount=True).\n"
          ]
        }
      ]
    },
    {
      "cell_type": "code",
      "source": [],
      "metadata": {
        "id": "zuBe4g42u0Pm"
      },
      "execution_count": 18,
      "outputs": []
    }
  ]
}